{
 "cells": [
  {
   "cell_type": "markdown",
   "metadata": {},
   "source": [
    "**Introduction**\n",
    "\n",
    "For a marketing campaign, the companies are interested in seeing how much of the success could be attributed to the ads. With that in mind, an A/B test is done where the experimental group (the majority of people) will be exposed to ads and a small portion of people (the control group) would instead see a Public Service Announcement (PSA) or nothing in the exact size and place the ad would normally be. \n",
    "\n",
    "We analyze the groups and find if the ads were successful, how much the company can make from the ads, and if the difference between the groups is statistically significant. "
   ]
  },
  {
   "cell_type": "markdown",
   "metadata": {},
   "source": [
    "**Data Dictionary**\n",
    "\n",
    "index : Row Index\n",
    "User ID: User ID (unique)\n",
    "Test group: If 'ad', th person saw the advertisement, if 'PSA' they only saw the public service announcement. \n",
    "converted: If a person bought the product then True, else is False\n",
    "total ads: Amount of ads seen by a person \n",
    "most ads day: Day the person saw the most amount of ads \n",
    "most ads hour: Hour of day that the person saw the biggest amount of ads"
   ]
  },
  {
   "cell_type": "markdown",
   "metadata": {},
   "source": [
    "**Importing the necessary libraries**"
   ]
  },
  {
   "cell_type": "code",
   "execution_count": 14,
   "metadata": {},
   "outputs": [],
   "source": [
    "import numpy as np\n",
    "import pandas as pd\n",
    "import matplotlib.pyplot as plt\n",
    "import seaborn as sns\n",
    "import warnings\n",
    "warnings. filterwarnings('ignore')"
   ]
  },
  {
   "cell_type": "code",
   "execution_count": 16,
   "metadata": {},
   "outputs": [
    {
     "name": "stdout",
     "output_type": "stream",
     "text": [
      "TEST GROUP : ['ad' 'psa']\n",
      "CONVERTED : [False  True]\n",
      "MOST ADS DAY : ['Monday' 'Tuesday' 'Friday' 'Saturday' 'Wednesday' 'Sunday' 'Thursday']\n",
      "MOST ADS HOUR : [20 22 18 10 14 13 19 11 12 16 21  3 23  4  8  0  2 15  1  6 17  7  9  5]\n"
     ]
    }
   ],
   "source": [
    "#Reading the data\n",
    "\n",
    "df = pd.read_csv('marketing_AB.csv')\n",
    "\n",
    "#Checking the head of the data\n",
    "\n",
    "df.head(5)\n",
    "\n",
    "#Checking for duplicate user ids: unique identifier\n",
    "\n",
    "''' Checks for duplicate values in the user id column of the dataframe, returns a boolean series \n",
    "where each value is True if a row is a duplicate based on the user id column, and False otherwise. The first occurrence of the user \n",
    "id is market False, and subsequent occurrences are marked as True. sum() sums up the True values'''\n",
    "\n",
    "df.duplicated(subset = \"user id\").sum() \n",
    "\n",
    "#Dropping the unwanted columns, Unnamed:0 and user id as user id alone would not be a predictor of anything alone\n",
    "\n",
    "df.drop(['Unnamed: 0', 'user id'], axis = 1, inplace = True)\n",
    "\n",
    "df.columns\n",
    "\n",
    "#Creating a dataframe with the categorical variables \n",
    "\n",
    "df_cat = df[['test group', 'converted', 'most ads day','most ads hour']]\n",
    "df_cat.nunique() #checking unique categories for each of the features\n",
    "\n",
    "#Assessing the unique categories for each column\n",
    "\n",
    "for i in df_cat.columns:\n",
    "    print(i.upper(), \":\", df_cat[i].unique())\n",
    "\n",
    "\n",
    "\n"
   ]
  }
 ],
 "metadata": {
  "kernelspec": {
   "display_name": "base",
   "language": "python",
   "name": "python3"
  },
  "language_info": {
   "codemirror_mode": {
    "name": "ipython",
    "version": 3
   },
   "file_extension": ".py",
   "mimetype": "text/x-python",
   "name": "python",
   "nbconvert_exporter": "python",
   "pygments_lexer": "ipython3",
   "version": "3.12.7"
  }
 },
 "nbformat": 4,
 "nbformat_minor": 2
}
