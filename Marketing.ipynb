{
 "cells": [
  {
   "cell_type": "markdown",
   "metadata": {},
   "source": [
    "**Introduction**\n",
    "\n",
    "For a marketing campaign, the companies are interested in seeing how much of the success could be attributed to the ads. With that in mind, an A/B test is done where the experimental group (the majority of people) will be exposed to ads and a small portion of people (the control group) would instead see a Public Service Announcement (PSA) or nothing in the exact size and place the ad would normally be. \n",
    "\n",
    "We analyze the groups and find if the ads were successful, how much the company can make from the ads, and if the difference between the groups is statistically significant. "
   ]
  },
  {
   "cell_type": "markdown",
   "metadata": {},
   "source": [
    "**Data Dictionary**\n",
    "\n",
    "index : Row Index\n",
    "User ID: User ID (unique)\n",
    "Test group: If 'ad', th person saw the advertisement, if 'PSA' they only saw the public service announcement. \n",
    "converted: If a person bought the product then True, else is False\n",
    "total ads: Amount of ads seen by a person \n",
    "most ads day: Day the person saw the most amount of ads \n",
    "most ads hour: Hour of day that the person saw the biggest amount of ads"
   ]
  },
  {
   "cell_type": "markdown",
   "metadata": {},
   "source": []
  }
 ],
 "metadata": {
  "language_info": {
   "name": "python"
  }
 },
 "nbformat": 4,
 "nbformat_minor": 2
}
